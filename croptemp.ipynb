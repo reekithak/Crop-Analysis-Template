{
 "cells": [
  {
   "cell_type": "code",
   "execution_count": 95,
   "metadata": {},
   "outputs": [],
   "source": [
    "import pandas as pd\n",
    "from sklearn.preprocessing import StandardScaler\n",
    "from sklearn.metrics import accuracy_score\n",
    "from sklearn.tree import DecisionTreeRegressor\n",
    "import numpy as np"
   ]
  },
  {
   "cell_type": "code",
   "execution_count": 96,
   "metadata": {},
   "outputs": [],
   "source": [
    "crop = pd.read_excel(\"crop.xlsx\")"
   ]
  },
  {
   "cell_type": "code",
   "execution_count": 97,
   "metadata": {},
   "outputs": [],
   "source": [
    "crop.to_csv(\"crop.csv\")"
   ]
  },
  {
   "cell_type": "code",
   "execution_count": 98,
   "metadata": {},
   "outputs": [],
   "source": [
    "crop = pd.read_csv(\"crop.csv\")"
   ]
  },
  {
   "cell_type": "code",
   "execution_count": 99,
   "metadata": {},
   "outputs": [],
   "source": [
    "try:\n",
    "    crop.drop(['Unnamed: 17','Unnamed: 18','Unnamed: 19'],axis=1,inplace=True)\n",
    "    crop.drop(\"Unnamed: 0\",axis=1,inplace=True)\n",
    "except:\n",
    "    pass"
   ]
  },
  {
   "cell_type": "code",
   "execution_count": 100,
   "metadata": {},
   "outputs": [],
   "source": [
    "c = list(crop['Crop'].unique())"
   ]
  },
  {
   "cell_type": "code",
   "execution_count": 101,
   "metadata": {},
   "outputs": [],
   "source": [
    "crop_sorted = crop.sort_values(['Crop'])"
   ]
  },
  {
   "cell_type": "code",
   "execution_count": 102,
   "metadata": {},
   "outputs": [],
   "source": [
    "from sklearn.neighbors import KNeighborsClassifier\n",
    "import numpy as np\n",
    "from sklearn.model_selection import train_test_split"
   ]
  },
  {
   "cell_type": "code",
   "execution_count": 103,
   "metadata": {},
   "outputs": [
    {
     "data": {
      "text/html": [
       "<div>\n",
       "<style scoped>\n",
       "    .dataframe tbody tr th:only-of-type {\n",
       "        vertical-align: middle;\n",
       "    }\n",
       "\n",
       "    .dataframe tbody tr th {\n",
       "        vertical-align: top;\n",
       "    }\n",
       "\n",
       "    .dataframe thead th {\n",
       "        text-align: right;\n",
       "    }\n",
       "</style>\n",
       "<table border=\"1\" class=\"dataframe\">\n",
       "  <thead>\n",
       "    <tr style=\"text-align: right;\">\n",
       "      <th></th>\n",
       "      <th>PH</th>\n",
       "      <th>Ec (Soil Salinity) dSm-1</th>\n",
       "      <th>Sulphur (Mgk-1)</th>\n",
       "      <th>Potassium</th>\n",
       "      <th>Zinc</th>\n",
       "      <th>Phosphorus ( Mgk-1)</th>\n",
       "      <th>Magnesium ( Mgk-1)</th>\n",
       "      <th>Boron</th>\n",
       "      <th>Calcium</th>\n",
       "      <th>Ferric</th>\n",
       "      <th>Copper</th>\n",
       "      <th>Annual Rainfall (in Millimetre)</th>\n",
       "      <th>Humidity</th>\n",
       "      <th>Moisture</th>\n",
       "      <th>Food Price Index</th>\n",
       "      <th>Average Yield(tonnes/hectare)</th>\n",
       "      <th>Crop</th>\n",
       "    </tr>\n",
       "  </thead>\n",
       "  <tbody>\n",
       "    <tr>\n",
       "      <th>0</th>\n",
       "      <td>6.2</td>\n",
       "      <td>2.7</td>\n",
       "      <td>23.4</td>\n",
       "      <td>244</td>\n",
       "      <td>34</td>\n",
       "      <td>266</td>\n",
       "      <td>131</td>\n",
       "      <td>0.500</td>\n",
       "      <td>233</td>\n",
       "      <td>0.213</td>\n",
       "      <td>0.027</td>\n",
       "      <td>221</td>\n",
       "      <td>79</td>\n",
       "      <td>397</td>\n",
       "      <td>107.160040</td>\n",
       "      <td>668.0</td>\n",
       "      <td>Rice</td>\n",
       "    </tr>\n",
       "    <tr>\n",
       "      <th>1</th>\n",
       "      <td>6.3</td>\n",
       "      <td>6.7</td>\n",
       "      <td>18.9</td>\n",
       "      <td>244</td>\n",
       "      <td>36</td>\n",
       "      <td>46</td>\n",
       "      <td>129</td>\n",
       "      <td>0.539</td>\n",
       "      <td>275</td>\n",
       "      <td>0.321</td>\n",
       "      <td>0.036</td>\n",
       "      <td>86</td>\n",
       "      <td>85</td>\n",
       "      <td>625</td>\n",
       "      <td>105.023078</td>\n",
       "      <td>714.0</td>\n",
       "      <td>Tomato</td>\n",
       "    </tr>\n",
       "    <tr>\n",
       "      <th>2</th>\n",
       "      <td>6.3</td>\n",
       "      <td>3.7</td>\n",
       "      <td>17.6</td>\n",
       "      <td>243</td>\n",
       "      <td>38</td>\n",
       "      <td>229</td>\n",
       "      <td>374</td>\n",
       "      <td>0.667</td>\n",
       "      <td>177</td>\n",
       "      <td>0.854</td>\n",
       "      <td>0.069</td>\n",
       "      <td>68</td>\n",
       "      <td>51</td>\n",
       "      <td>421</td>\n",
       "      <td>109.184694</td>\n",
       "      <td>764.1</td>\n",
       "      <td>Wheat</td>\n",
       "    </tr>\n",
       "    <tr>\n",
       "      <th>3</th>\n",
       "      <td>5.5</td>\n",
       "      <td>4.2</td>\n",
       "      <td>16.7</td>\n",
       "      <td>298</td>\n",
       "      <td>40</td>\n",
       "      <td>430</td>\n",
       "      <td>29</td>\n",
       "      <td>0.348</td>\n",
       "      <td>361</td>\n",
       "      <td>0.256</td>\n",
       "      <td>0.087</td>\n",
       "      <td>47</td>\n",
       "      <td>62</td>\n",
       "      <td>422</td>\n",
       "      <td>105.494039</td>\n",
       "      <td>901.6</td>\n",
       "      <td>Barley</td>\n",
       "    </tr>\n",
       "    <tr>\n",
       "      <th>4</th>\n",
       "      <td>6.2</td>\n",
       "      <td>5.3</td>\n",
       "      <td>15.6</td>\n",
       "      <td>294</td>\n",
       "      <td>41</td>\n",
       "      <td>20</td>\n",
       "      <td>55</td>\n",
       "      <td>0.360</td>\n",
       "      <td>209</td>\n",
       "      <td>0.321</td>\n",
       "      <td>0.065</td>\n",
       "      <td>91</td>\n",
       "      <td>32</td>\n",
       "      <td>367</td>\n",
       "      <td>110.327067</td>\n",
       "      <td>819.6</td>\n",
       "      <td>chile</td>\n",
       "    </tr>\n",
       "  </tbody>\n",
       "</table>\n",
       "</div>"
      ],
      "text/plain": [
       "    PH  Ec (Soil Salinity) dSm-1  Sulphur (Mgk-1)  Potassium  Zinc  \\\n",
       "0  6.2                       2.7             23.4        244    34   \n",
       "1  6.3                       6.7             18.9        244    36   \n",
       "2  6.3                       3.7             17.6        243    38   \n",
       "3  5.5                       4.2             16.7        298    40   \n",
       "4  6.2                       5.3             15.6        294    41   \n",
       "\n",
       "   Phosphorus ( Mgk-1)  Magnesium ( Mgk-1)  Boron  Calcium  Ferric  Copper  \\\n",
       "0                  266                 131  0.500      233   0.213   0.027   \n",
       "1                   46                 129  0.539      275   0.321   0.036   \n",
       "2                  229                 374  0.667      177   0.854   0.069   \n",
       "3                  430                  29  0.348      361   0.256   0.087   \n",
       "4                   20                  55  0.360      209   0.321   0.065   \n",
       "\n",
       "   Annual Rainfall (in Millimetre)  Humidity  Moisture  Food Price Index  \\\n",
       "0                              221        79       397        107.160040   \n",
       "1                               86        85       625        105.023078   \n",
       "2                               68        51       421        109.184694   \n",
       "3                               47        62       422        105.494039   \n",
       "4                               91        32       367        110.327067   \n",
       "\n",
       "   Average Yield(tonnes/hectare)    Crop  \n",
       "0                          668.0    Rice  \n",
       "1                          714.0  Tomato  \n",
       "2                          764.1   Wheat  \n",
       "3                          901.6  Barley  \n",
       "4                          819.6   chile  "
      ]
     },
     "execution_count": 103,
     "metadata": {},
     "output_type": "execute_result"
    }
   ],
   "source": [
    "crop.head(5)"
   ]
  },
  {
   "cell_type": "code",
   "execution_count": 104,
   "metadata": {},
   "outputs": [],
   "source": [
    "label= pd.get_dummies(crop.Crop).iloc[: , 1:]"
   ]
  },
  {
   "cell_type": "code",
   "execution_count": 105,
   "metadata": {},
   "outputs": [],
   "source": [
    "crop = pd.concat([ crop,label],axis=1)"
   ]
  },
  {
   "cell_type": "code",
   "execution_count": 106,
   "metadata": {},
   "outputs": [
    {
     "data": {
      "text/html": [
       "<div>\n",
       "<style scoped>\n",
       "    .dataframe tbody tr th:only-of-type {\n",
       "        vertical-align: middle;\n",
       "    }\n",
       "\n",
       "    .dataframe tbody tr th {\n",
       "        vertical-align: top;\n",
       "    }\n",
       "\n",
       "    .dataframe thead th {\n",
       "        text-align: right;\n",
       "    }\n",
       "</style>\n",
       "<table border=\"1\" class=\"dataframe\">\n",
       "  <thead>\n",
       "    <tr style=\"text-align: right;\">\n",
       "      <th></th>\n",
       "      <th>PH</th>\n",
       "      <th>Ec (Soil Salinity) dSm-1</th>\n",
       "      <th>Sulphur (Mgk-1)</th>\n",
       "      <th>Potassium</th>\n",
       "      <th>Zinc</th>\n",
       "      <th>Phosphorus ( Mgk-1)</th>\n",
       "      <th>Magnesium ( Mgk-1)</th>\n",
       "      <th>Boron</th>\n",
       "      <th>Calcium</th>\n",
       "      <th>Ferric</th>\n",
       "      <th>...</th>\n",
       "      <th>Annual Rainfall (in Millimetre)</th>\n",
       "      <th>Humidity</th>\n",
       "      <th>Moisture</th>\n",
       "      <th>Food Price Index</th>\n",
       "      <th>Average Yield(tonnes/hectare)</th>\n",
       "      <th>Crop</th>\n",
       "      <th>Rice</th>\n",
       "      <th>Tomato</th>\n",
       "      <th>Wheat</th>\n",
       "      <th>chile</th>\n",
       "    </tr>\n",
       "  </thead>\n",
       "  <tbody>\n",
       "    <tr>\n",
       "      <th>0</th>\n",
       "      <td>6.2</td>\n",
       "      <td>2.7</td>\n",
       "      <td>23.4</td>\n",
       "      <td>244</td>\n",
       "      <td>34</td>\n",
       "      <td>266</td>\n",
       "      <td>131</td>\n",
       "      <td>0.500</td>\n",
       "      <td>233</td>\n",
       "      <td>0.213</td>\n",
       "      <td>...</td>\n",
       "      <td>221</td>\n",
       "      <td>79</td>\n",
       "      <td>397</td>\n",
       "      <td>107.160040</td>\n",
       "      <td>668.0</td>\n",
       "      <td>Rice</td>\n",
       "      <td>1</td>\n",
       "      <td>0</td>\n",
       "      <td>0</td>\n",
       "      <td>0</td>\n",
       "    </tr>\n",
       "    <tr>\n",
       "      <th>1</th>\n",
       "      <td>6.3</td>\n",
       "      <td>6.7</td>\n",
       "      <td>18.9</td>\n",
       "      <td>244</td>\n",
       "      <td>36</td>\n",
       "      <td>46</td>\n",
       "      <td>129</td>\n",
       "      <td>0.539</td>\n",
       "      <td>275</td>\n",
       "      <td>0.321</td>\n",
       "      <td>...</td>\n",
       "      <td>86</td>\n",
       "      <td>85</td>\n",
       "      <td>625</td>\n",
       "      <td>105.023078</td>\n",
       "      <td>714.0</td>\n",
       "      <td>Tomato</td>\n",
       "      <td>0</td>\n",
       "      <td>1</td>\n",
       "      <td>0</td>\n",
       "      <td>0</td>\n",
       "    </tr>\n",
       "    <tr>\n",
       "      <th>2</th>\n",
       "      <td>6.3</td>\n",
       "      <td>3.7</td>\n",
       "      <td>17.6</td>\n",
       "      <td>243</td>\n",
       "      <td>38</td>\n",
       "      <td>229</td>\n",
       "      <td>374</td>\n",
       "      <td>0.667</td>\n",
       "      <td>177</td>\n",
       "      <td>0.854</td>\n",
       "      <td>...</td>\n",
       "      <td>68</td>\n",
       "      <td>51</td>\n",
       "      <td>421</td>\n",
       "      <td>109.184694</td>\n",
       "      <td>764.1</td>\n",
       "      <td>Wheat</td>\n",
       "      <td>0</td>\n",
       "      <td>0</td>\n",
       "      <td>1</td>\n",
       "      <td>0</td>\n",
       "    </tr>\n",
       "    <tr>\n",
       "      <th>3</th>\n",
       "      <td>5.5</td>\n",
       "      <td>4.2</td>\n",
       "      <td>16.7</td>\n",
       "      <td>298</td>\n",
       "      <td>40</td>\n",
       "      <td>430</td>\n",
       "      <td>29</td>\n",
       "      <td>0.348</td>\n",
       "      <td>361</td>\n",
       "      <td>0.256</td>\n",
       "      <td>...</td>\n",
       "      <td>47</td>\n",
       "      <td>62</td>\n",
       "      <td>422</td>\n",
       "      <td>105.494039</td>\n",
       "      <td>901.6</td>\n",
       "      <td>Barley</td>\n",
       "      <td>0</td>\n",
       "      <td>0</td>\n",
       "      <td>0</td>\n",
       "      <td>0</td>\n",
       "    </tr>\n",
       "    <tr>\n",
       "      <th>4</th>\n",
       "      <td>6.2</td>\n",
       "      <td>5.3</td>\n",
       "      <td>15.6</td>\n",
       "      <td>294</td>\n",
       "      <td>41</td>\n",
       "      <td>20</td>\n",
       "      <td>55</td>\n",
       "      <td>0.360</td>\n",
       "      <td>209</td>\n",
       "      <td>0.321</td>\n",
       "      <td>...</td>\n",
       "      <td>91</td>\n",
       "      <td>32</td>\n",
       "      <td>367</td>\n",
       "      <td>110.327067</td>\n",
       "      <td>819.6</td>\n",
       "      <td>chile</td>\n",
       "      <td>0</td>\n",
       "      <td>0</td>\n",
       "      <td>0</td>\n",
       "      <td>1</td>\n",
       "    </tr>\n",
       "    <tr>\n",
       "      <th>...</th>\n",
       "      <td>...</td>\n",
       "      <td>...</td>\n",
       "      <td>...</td>\n",
       "      <td>...</td>\n",
       "      <td>...</td>\n",
       "      <td>...</td>\n",
       "      <td>...</td>\n",
       "      <td>...</td>\n",
       "      <td>...</td>\n",
       "      <td>...</td>\n",
       "      <td>...</td>\n",
       "      <td>...</td>\n",
       "      <td>...</td>\n",
       "      <td>...</td>\n",
       "      <td>...</td>\n",
       "      <td>...</td>\n",
       "      <td>...</td>\n",
       "      <td>...</td>\n",
       "      <td>...</td>\n",
       "      <td>...</td>\n",
       "      <td>...</td>\n",
       "    </tr>\n",
       "    <tr>\n",
       "      <th>8728</th>\n",
       "      <td>5.2</td>\n",
       "      <td>3.7</td>\n",
       "      <td>14.3</td>\n",
       "      <td>321</td>\n",
       "      <td>46</td>\n",
       "      <td>376</td>\n",
       "      <td>233</td>\n",
       "      <td>0.582</td>\n",
       "      <td>248</td>\n",
       "      <td>0.321</td>\n",
       "      <td>...</td>\n",
       "      <td>46</td>\n",
       "      <td>70</td>\n",
       "      <td>424</td>\n",
       "      <td>201.377700</td>\n",
       "      <td>874.4</td>\n",
       "      <td>Barley</td>\n",
       "      <td>0</td>\n",
       "      <td>0</td>\n",
       "      <td>0</td>\n",
       "      <td>0</td>\n",
       "    </tr>\n",
       "    <tr>\n",
       "      <th>8729</th>\n",
       "      <td>6.9</td>\n",
       "      <td>4.2</td>\n",
       "      <td>12.9</td>\n",
       "      <td>190</td>\n",
       "      <td>45</td>\n",
       "      <td>45</td>\n",
       "      <td>127</td>\n",
       "      <td>0.528</td>\n",
       "      <td>302</td>\n",
       "      <td>0.311</td>\n",
       "      <td>...</td>\n",
       "      <td>118</td>\n",
       "      <td>36</td>\n",
       "      <td>362</td>\n",
       "      <td>160.344446</td>\n",
       "      <td>899.6</td>\n",
       "      <td>chile</td>\n",
       "      <td>0</td>\n",
       "      <td>0</td>\n",
       "      <td>0</td>\n",
       "      <td>1</td>\n",
       "    </tr>\n",
       "    <tr>\n",
       "      <th>8730</th>\n",
       "      <td>7.0</td>\n",
       "      <td>5.3</td>\n",
       "      <td>13.3</td>\n",
       "      <td>193</td>\n",
       "      <td>44</td>\n",
       "      <td>259</td>\n",
       "      <td>251</td>\n",
       "      <td>0.351</td>\n",
       "      <td>303</td>\n",
       "      <td>0.113</td>\n",
       "      <td>...</td>\n",
       "      <td>245</td>\n",
       "      <td>62</td>\n",
       "      <td>409</td>\n",
       "      <td>187.973787</td>\n",
       "      <td>790.4</td>\n",
       "      <td>Rice</td>\n",
       "      <td>1</td>\n",
       "      <td>0</td>\n",
       "      <td>0</td>\n",
       "      <td>0</td>\n",
       "    </tr>\n",
       "    <tr>\n",
       "      <th>8731</th>\n",
       "      <td>6.8</td>\n",
       "      <td>3.6</td>\n",
       "      <td>13.3</td>\n",
       "      <td>283</td>\n",
       "      <td>43</td>\n",
       "      <td>158</td>\n",
       "      <td>229</td>\n",
       "      <td>0.153</td>\n",
       "      <td>268</td>\n",
       "      <td>0.213</td>\n",
       "      <td>...</td>\n",
       "      <td>87</td>\n",
       "      <td>75</td>\n",
       "      <td>543</td>\n",
       "      <td>229.949393</td>\n",
       "      <td>930.1</td>\n",
       "      <td>Tomato</td>\n",
       "      <td>0</td>\n",
       "      <td>1</td>\n",
       "      <td>0</td>\n",
       "      <td>0</td>\n",
       "    </tr>\n",
       "    <tr>\n",
       "      <th>8732</th>\n",
       "      <td>6.0</td>\n",
       "      <td>6.9</td>\n",
       "      <td>27.3</td>\n",
       "      <td>241</td>\n",
       "      <td>41</td>\n",
       "      <td>236</td>\n",
       "      <td>378</td>\n",
       "      <td>0.143</td>\n",
       "      <td>208</td>\n",
       "      <td>0.214</td>\n",
       "      <td>...</td>\n",
       "      <td>44</td>\n",
       "      <td>53</td>\n",
       "      <td>404</td>\n",
       "      <td>213.272002</td>\n",
       "      <td>936.7</td>\n",
       "      <td>Wheat</td>\n",
       "      <td>0</td>\n",
       "      <td>0</td>\n",
       "      <td>1</td>\n",
       "      <td>0</td>\n",
       "    </tr>\n",
       "  </tbody>\n",
       "</table>\n",
       "<p>8733 rows × 21 columns</p>\n",
       "</div>"
      ],
      "text/plain": [
       "       PH  Ec (Soil Salinity) dSm-1  Sulphur (Mgk-1)  Potassium  Zinc  \\\n",
       "0     6.2                       2.7             23.4        244    34   \n",
       "1     6.3                       6.7             18.9        244    36   \n",
       "2     6.3                       3.7             17.6        243    38   \n",
       "3     5.5                       4.2             16.7        298    40   \n",
       "4     6.2                       5.3             15.6        294    41   \n",
       "...   ...                       ...              ...        ...   ...   \n",
       "8728  5.2                       3.7             14.3        321    46   \n",
       "8729  6.9                       4.2             12.9        190    45   \n",
       "8730  7.0                       5.3             13.3        193    44   \n",
       "8731  6.8                       3.6             13.3        283    43   \n",
       "8732  6.0                       6.9             27.3        241    41   \n",
       "\n",
       "      Phosphorus ( Mgk-1)  Magnesium ( Mgk-1)  Boron  Calcium  Ferric  ...  \\\n",
       "0                     266                 131  0.500      233   0.213  ...   \n",
       "1                      46                 129  0.539      275   0.321  ...   \n",
       "2                     229                 374  0.667      177   0.854  ...   \n",
       "3                     430                  29  0.348      361   0.256  ...   \n",
       "4                      20                  55  0.360      209   0.321  ...   \n",
       "...                   ...                 ...    ...      ...     ...  ...   \n",
       "8728                  376                 233  0.582      248   0.321  ...   \n",
       "8729                   45                 127  0.528      302   0.311  ...   \n",
       "8730                  259                 251  0.351      303   0.113  ...   \n",
       "8731                  158                 229  0.153      268   0.213  ...   \n",
       "8732                  236                 378  0.143      208   0.214  ...   \n",
       "\n",
       "      Annual Rainfall (in Millimetre)  Humidity  Moisture  Food Price Index  \\\n",
       "0                                 221        79       397        107.160040   \n",
       "1                                  86        85       625        105.023078   \n",
       "2                                  68        51       421        109.184694   \n",
       "3                                  47        62       422        105.494039   \n",
       "4                                  91        32       367        110.327067   \n",
       "...                               ...       ...       ...               ...   \n",
       "8728                               46        70       424        201.377700   \n",
       "8729                              118        36       362        160.344446   \n",
       "8730                              245        62       409        187.973787   \n",
       "8731                               87        75       543        229.949393   \n",
       "8732                               44        53       404        213.272002   \n",
       "\n",
       "      Average Yield(tonnes/hectare)    Crop Rice  Tomato  Wheat  chile  \n",
       "0                             668.0    Rice    1       0      0      0  \n",
       "1                             714.0  Tomato    0       1      0      0  \n",
       "2                             764.1   Wheat    0       0      1      0  \n",
       "3                             901.6  Barley    0       0      0      0  \n",
       "4                             819.6   chile    0       0      0      1  \n",
       "...                             ...     ...  ...     ...    ...    ...  \n",
       "8728                          874.4  Barley    0       0      0      0  \n",
       "8729                          899.6   chile    0       0      0      1  \n",
       "8730                          790.4    Rice    1       0      0      0  \n",
       "8731                          930.1  Tomato    0       1      0      0  \n",
       "8732                          936.7   Wheat    0       0      1      0  \n",
       "\n",
       "[8733 rows x 21 columns]"
      ]
     },
     "execution_count": 106,
     "metadata": {},
     "output_type": "execute_result"
    }
   ],
   "source": [
    "crop"
   ]
  },
  {
   "cell_type": "code",
   "execution_count": 107,
   "metadata": {},
   "outputs": [],
   "source": [
    "train = crop.iloc[:, 0:16].values"
   ]
  },
  {
   "cell_type": "code",
   "execution_count": 108,
   "metadata": {},
   "outputs": [],
   "source": [
    "test = crop.iloc[: ,17:].values"
   ]
  },
  {
   "cell_type": "code",
   "execution_count": 109,
   "metadata": {},
   "outputs": [],
   "source": [
    "X_train,X_test,y_train,y_test=train_test_split(train,test,test_size=0.2)"
   ]
  },
  {
   "cell_type": "code",
   "execution_count": 110,
   "metadata": {},
   "outputs": [],
   "source": [
    "sc = StandardScaler()\n",
    "X_train = sc.fit_transform(X_train)\n",
    "X_test = sc.transform(X_test)"
   ]
  },
  {
   "cell_type": "code",
   "execution_count": 111,
   "metadata": {},
   "outputs": [],
   "source": [
    "clf=DecisionTreeRegressor()\n",
    "clf.fit(X_train,y_train)\n",
    "pred=clf.predict(X_test)"
   ]
  },
  {
   "cell_type": "code",
   "execution_count": 112,
   "metadata": {},
   "outputs": [
    {
     "name": "stdout",
     "output_type": "stream",
     "text": [
      "The accuracy : 99.89%\n"
     ]
    }
   ],
   "source": [
    "a=accuracy_score(y_test,pred)\n",
    "print(\"The accuracy : \"+ str(round(a*100,2))+str(\"%\"))"
   ]
  },
  {
   "cell_type": "code",
   "execution_count": 113,
   "metadata": {},
   "outputs": [
    {
     "data": {
      "text/plain": [
       "Index(['PH', 'Ec (Soil Salinity) dSm-1', 'Sulphur (Mgk-1)', 'Potassium',\n",
       "       'Zinc', 'Phosphorus ( Mgk-1)', 'Magnesium ( Mgk-1)', 'Boron', 'Calcium',\n",
       "       'Ferric', 'Copper', 'Annual Rainfall (in Millimetre)', 'Humidity',\n",
       "       'Moisture', 'Food Price Index', 'Average Yield(tonnes/hectare)', 'Crop',\n",
       "       'Rice', 'Tomato', 'Wheat', 'chile'],\n",
       "      dtype='object')"
      ]
     },
     "execution_count": 113,
     "metadata": {},
     "output_type": "execute_result"
    }
   ],
   "source": [
    "crop.columns"
   ]
  },
  {
   "cell_type": "code",
   "execution_count": 182,
   "metadata": {},
   "outputs": [],
   "source": [
    "from sklearn.linear_model import LinearRegression"
   ]
  },
  {
   "cell_type": "markdown",
   "metadata": {},
   "source": [
    "# Split Data based on categories"
   ]
  },
  {
   "cell_type": "code",
   "execution_count": 172,
   "metadata": {},
   "outputs": [],
   "source": [
    "crop_dict = {}\n",
    "for i in c:\n",
    "    temp = crop[crop['Crop']==i]\n",
    "    crop_dict[\"{}\".format(i)] = temp\n",
    "    "
   ]
  },
  {
   "cell_type": "code",
   "execution_count": 173,
   "metadata": {},
   "outputs": [
    {
     "data": {
      "text/plain": [
       "dict_keys(['Rice', 'Tomato', 'Wheat', 'Barley', 'chile'])"
      ]
     },
     "execution_count": 173,
     "metadata": {},
     "output_type": "execute_result"
    }
   ],
   "source": [
    "crop_dict.keys()"
   ]
  },
  {
   "cell_type": "code",
   "execution_count": 186,
   "metadata": {},
   "outputs": [],
   "source": [
    "em_dict = {}\n",
    "for key in crop_dict:\n",
    "    tmp = crop_dict[key]\n",
    "    elements = list(tmp.columns[:11])\n",
    "    for x in elements:\n",
    "        max_tmp = max(list(tmp[x].values))\n",
    "        min_tmp = min(list(tmp[x].values))\n",
    "        mid_tmp = np.median(list(tmp[x].values))\n",
    "        s_i = (min_tmp*1+(mid_tmp*2)+(max_tmp*3))/(tmp.shape[0])\n",
    "        em_dict['{}_{}'.format(key,x)]=s_i\n",
    "    \n",
    "    \n",
    "    "
   ]
  },
  {
   "cell_type": "code",
   "execution_count": 187,
   "metadata": {},
   "outputs": [
    {
     "data": {
      "text/plain": [
       "{'Rice_PH': 0.02215226101888952,\n",
       " 'Rice_Ec (Soil Salinity) dSm-1': 0.020091585575271895,\n",
       " 'Rice_Sulphur (Mgk-1)': 0.07349742415569546,\n",
       " 'Rice_Potassium': 0.6777332570120206,\n",
       " 'Rice_Zinc': 0.1534058385804236,\n",
       " 'Rice_Phosphorus ( Mgk-1)': 0.8265598168288495,\n",
       " 'Rice_Magnesium ( Mgk-1)': 0.8929593589009731,\n",
       " 'Rice_Boron': 0.0020646823125357754,\n",
       " 'Rice_Calcium': 1.6090440755580997,\n",
       " 'Rice_Ferric': 0.0021024613623354324,\n",
       " 'Rice_Copper': 0.0019559244419004008,\n",
       " 'Tomato_PH': 0.02215226101888952,\n",
       " 'Tomato_Ec (Soil Salinity) dSm-1': 0.020206067544361765,\n",
       " 'Tomato_Sulphur (Mgk-1)': 0.07349742415569546,\n",
       " 'Tomato_Potassium': 0.8855180309101317,\n",
       " 'Tomato_Zinc': 0.1534058385804236,\n",
       " 'Tomato_Phosphorus ( Mgk-1)': 0.8471665712650257,\n",
       " 'Tomato_Magnesium ( Mgk-1)': 1.0120206067544362,\n",
       " 'Tomato_Boron': 0.0020646823125357754,\n",
       " 'Tomato_Calcium': 1.3898111047510018,\n",
       " 'Tomato_Ferric': 0.0021048082427017746,\n",
       " 'Tomato_Copper': 0.0019559244419004008,\n",
       " 'Wheat_PH': 0.02215226101888952,\n",
       " 'Wheat_Ec (Soil Salinity) dSm-1': 0.020091585575271895,\n",
       " 'Wheat_Sulphur (Mgk-1)': 0.07349742415569546,\n",
       " 'Wheat_Potassium': 1.009730967372639,\n",
       " 'Wheat_Zinc': 0.1534058385804236,\n",
       " 'Wheat_Phosphorus ( Mgk-1)': 0.8889524899828277,\n",
       " 'Wheat_Magnesium ( Mgk-1)': 1.3056668574699486,\n",
       " 'Wheat_Boron': 0.002011448196908987,\n",
       " 'Wheat_Calcium': 1.5987406983400114,\n",
       " 'Wheat_Ferric': 0.0021013165426445337,\n",
       " 'Wheat_Copper': 0.0019559244419004008,\n",
       " 'Barley_PH': 0.022164948453608245,\n",
       " 'Barley_Ec (Soil Salinity) dSm-1': 0.020217640320733105,\n",
       " 'Barley_Sulphur (Mgk-1)': 0.07353951890034363,\n",
       " 'Barley_Potassium': 1.3550973654066438,\n",
       " 'Barley_Zinc': 0.15349369988545247,\n",
       " 'Barley_Phosphorus ( Mgk-1)': 1.2646048109965635,\n",
       " 'Barley_Magnesium ( Mgk-1)': 0.8413516609392898,\n",
       " 'Barley_Boron': 0.002014891179839633,\n",
       " 'Barley_Calcium': 1.607101947308133,\n",
       " 'Barley_Ferric': 0.0021036655211912943,\n",
       " 'Barley_Copper': 0.0019570446735395187,\n",
       " 'chile_PH': 0.022164948453608245,\n",
       " 'chile_Ec (Soil Salinity) dSm-1': 0.020103092783505156,\n",
       " 'chile_Sulphur (Mgk-1)': 0.07353951890034363,\n",
       " 'chile_Potassium': 0.9914089347079038,\n",
       " 'chile_Zinc': 0.15349369988545247,\n",
       " 'chile_Phosphorus ( Mgk-1)': 0.12428407789232532,\n",
       " 'chile_Magnesium ( Mgk-1)': 0.8018327605956472,\n",
       " 'chile_Boron': 0.001911225658648339,\n",
       " 'chile_Calcium': 1.6174112256586484,\n",
       " 'chile_Ferric': 0.0021046964490263457,\n",
       " 'chile_Copper': 0.0019570446735395187}"
      ]
     },
     "execution_count": 187,
     "metadata": {},
     "output_type": "execute_result"
    }
   ],
   "source": [
    "em_dict"
   ]
  },
  {
   "cell_type": "markdown",
   "metadata": {},
   "source": [
    "Regression - temporary "
   ]
  },
  {
   "cell_type": "code",
   "execution_count": 130,
   "metadata": {},
   "outputs": [],
   "source": [
    "X = crop_dict['Rice'].iloc[:,:15].values"
   ]
  },
  {
   "cell_type": "code",
   "execution_count": 131,
   "metadata": {},
   "outputs": [],
   "source": [
    "y = crop_dict['Rice'].iloc[:,15:16].values"
   ]
  },
  {
   "cell_type": "code",
   "execution_count": 133,
   "metadata": {},
   "outputs": [],
   "source": [
    "X_train, X_test, y_train, y_test = train_test_split(X, y, test_size=0.2, random_state=0)"
   ]
  },
  {
   "cell_type": "code",
   "execution_count": 135,
   "metadata": {},
   "outputs": [
    {
     "data": {
      "text/plain": [
       "LinearRegression(copy_X=True, fit_intercept=True, n_jobs=None,\n",
       "         normalize=False)"
      ]
     },
     "execution_count": 135,
     "metadata": {},
     "output_type": "execute_result"
    }
   ],
   "source": [
    "regressor = LinearRegression() \n",
    "regressor.fit(X_train, y_train)"
   ]
  },
  {
   "cell_type": "code",
   "execution_count": 136,
   "metadata": {},
   "outputs": [],
   "source": [
    "y_pred = regressor.predict(X_test)"
   ]
  },
  {
   "cell_type": "code",
   "execution_count": 138,
   "metadata": {},
   "outputs": [],
   "source": [
    "from sklearn.metrics import r2_score"
   ]
  },
  {
   "cell_type": "code",
   "execution_count": 139,
   "metadata": {},
   "outputs": [
    {
     "data": {
      "text/plain": [
       "0.0007606779032409694"
      ]
     },
     "execution_count": 139,
     "metadata": {},
     "output_type": "execute_result"
    }
   ],
   "source": [
    "r2_score(y_test, y_pred, multioutput='uniform_average')"
   ]
  },
  {
   "cell_type": "code",
   "execution_count": null,
   "metadata": {},
   "outputs": [],
   "source": []
  }
 ],
 "metadata": {
  "kernelspec": {
   "display_name": "Python 3",
   "language": "python",
   "name": "python3"
  },
  "language_info": {
   "codemirror_mode": {
    "name": "ipython",
    "version": 3
   },
   "file_extension": ".py",
   "mimetype": "text/x-python",
   "name": "python",
   "nbconvert_exporter": "python",
   "pygments_lexer": "ipython3",
   "version": "3.7.7"
  }
 },
 "nbformat": 4,
 "nbformat_minor": 2
}
